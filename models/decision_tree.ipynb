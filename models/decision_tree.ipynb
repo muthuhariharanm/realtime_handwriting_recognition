{
 "nbformat": 4,
 "nbformat_minor": 2,
 "metadata": {
  "language_info": {
   "name": "python",
   "codemirror_mode": {
    "name": "ipython",
    "version": 3
   },
   "version": "3.6.8-final"
  },
  "orig_nbformat": 2,
  "file_extension": ".py",
  "mimetype": "text/x-python",
  "name": "python",
  "npconvert_exporter": "python",
  "pygments_lexer": "ipython3",
  "version": 3,
  "kernelspec": {
   "name": "python36864bitc54f13dd7a9548e0a6c3d917ee68fbfe",
   "display_name": "Python 3.6.8 64-bit"
  }
 },
 "cells": [
  {
   "cell_type": "markdown",
   "metadata": {},
   "source": [
    "# Import the datasets"
   ]
  },
  {
   "cell_type": "code",
   "execution_count": 1,
   "metadata": {},
   "outputs": [],
   "source": [
    "from emnist import extract_training_samples\n",
    "from emnist import extract_test_samples\n",
    "from emnist import list_datasets"
   ]
  },
  {
   "cell_type": "markdown",
   "metadata": {},
   "source": [
    "# Preprocess - digits"
   ]
  },
  {
   "cell_type": "code",
   "execution_count": 56,
   "metadata": {},
   "outputs": [
    {
     "name": "stdout",
     "output_type": "stream",
     "text": "(60000, 784)(60000,)(10000, 784)(10000,)\n"
    }
   ],
   "source": [
    "x_train_dig, y_train_dig = extract_training_samples('mnist')\n",
    "x_test_dig, y_test_dig = extract_test_samples('mnist')\n",
    "\n",
    "x_train_dig = x_train_dig.reshape(len(x_train_dig),28*28) / 255\n",
    "x_test_dig = x_test_dig.reshape(len(x_test_dig),28*28) / 255\n",
    "\n",
    "y_train_dig = y_train_dig\n",
    "y_test_dig = y_test_dig\n",
    "\n",
    "print(x_train_dig.shape,y_train_dig.shape,x_test_dig.shape,y_test_dig.shape)"
   ]
  },
  {
   "cell_type": "markdown",
   "metadata": {},
   "source": [
    "# Decision Tree for digits"
   ]
  },
  {
   "cell_type": "code",
   "execution_count": 57,
   "metadata": {},
   "outputs": [],
   "source": [
    "from sklearn.tree import DecisionTreeClassifier\n",
    "from sklearn.metrics import accuracy_score\n",
    "import pickle"
   ]
  },
  {
   "cell_type": "code",
   "execution_count": 58,
   "metadata": {},
   "outputs": [],
   "source": [
    "tree = DecisionTreeClassifier()\n",
    "\n",
    "tree.fit(x_train_dig, y_train_dig)\n",
    "\n",
    "with open('dec_tree_dig.pickle','wb') as f :\n",
    "    pickle.dump(tree,f)"
   ]
  },
  {
   "cell_type": "code",
   "execution_count": 60,
   "metadata": {},
   "outputs": [
    {
     "name": "stdout",
     "output_type": "stream",
     "text": "0.893\n"
    }
   ],
   "source": [
    "with open('dec_tree_dig.pickle','rb') as f :\n",
    "    tree = pickle.load(f)\n",
    "\n",
    "    pred = tree.predict(x_test_dig)\n",
    "\n",
    "    accuracy = accuracy_score(pred,y_test_dig)\n",
    "    print(accuracy)"
   ]
  },
  {
   "cell_type": "markdown",
   "metadata": {},
   "source": [
    "# Preprocess - Letters"
   ]
  },
  {
   "cell_type": "code",
   "execution_count": 61,
   "metadata": {},
   "outputs": [
    {
     "name": "stdout",
     "output_type": "stream",
     "text": "(124800, 784)(124800,)(20800, 784)(20800,)\n"
    }
   ],
   "source": [
    "x_train_let, y_train_let = extract_training_samples('letters')\n",
    "x_test_let, y_test_let = extract_test_samples('letters')\n",
    "\n",
    "x_train_let = x_train_let.reshape(len(x_train_let),28*28) / 255\n",
    "x_test_let = x_test_let.reshape(len(x_test_let),28*28) / 255\n",
    "\n",
    "y_train_let = y_train_let\n",
    "y_test_let = y_test_let\n",
    "\n",
    "print(x_train_let.shape,y_train_let.shape,x_test_let.shape,y_test_let.shape)"
   ]
  },
  {
   "cell_type": "markdown",
   "metadata": {},
   "source": [
    "# Decision Tree for Letters"
   ]
  },
  {
   "cell_type": "code",
   "execution_count": 62,
   "metadata": {},
   "outputs": [],
   "source": [
    "from sklearn.tree import DecisionTreeClassifier\n",
    "from sklearn.metrics import accuracy_score\n",
    "import pickle"
   ]
  },
  {
   "cell_type": "code",
   "execution_count": 63,
   "metadata": {},
   "outputs": [],
   "source": [
    "tree  = DecisionTreeClassifier()\n",
    "\n",
    "tree.fit(x_train_let, y_train_let)\n",
    "\n",
    "with open('dec_tree_let.pickle','wb') as f :\n",
    "    pickle.dump(tree, f)"
   ]
  },
  {
   "cell_type": "code",
   "execution_count": 64,
   "metadata": {},
   "outputs": [
    {
     "name": "stdout",
     "output_type": "stream",
     "text": "0.7043269230769231\n"
    }
   ],
   "source": [
    "with open('dec_tree_let.pickle','rb') as f :\n",
    "    tree = pickle.load(f)\n",
    "\n",
    "    pred = tree.predict(x_test_let)\n",
    "\n",
    "    accuracy = accuracy_score(pred,y_test_let)\n",
    "    print(accuracy)"
   ]
  }
 ]
}